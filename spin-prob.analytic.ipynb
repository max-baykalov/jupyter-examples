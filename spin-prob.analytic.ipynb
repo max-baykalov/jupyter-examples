{
 "cells": [
  {
   "cell_type": "code",
   "execution_count": 67,
   "metadata": {},
   "outputs": [],
   "source": [
    "import numpy as np\n",
    "from numpy.linalg import eig"
   ]
  },
  {
   "cell_type": "code",
   "execution_count": 68,
   "metadata": {},
   "outputs": [],
   "source": [
    "X = np.array([[0, 1],\n",
    "              [1, 0]])\n",
    "\n",
    "Z = np.array([[1,  0],\n",
    "              [0, -1]])\n",
    "\n",
    "Y = np.array([[ 0, -1j],\n",
    "              [1j,  0 ]])\n",
    "\n",
    "H = (1/2**0.5) * np.array([[1, 1], \n",
    "                           [1, -1]])"
   ]
  },
  {
   "cell_type": "code",
   "execution_count": 69,
   "metadata": {},
   "outputs": [],
   "source": [
    "valZ, vecZ=eig(Z * 1/2)\n",
    "l = vecZ[1] # |left>\n",
    "r = vecZ[0] # |right>\n",
    "\n",
    "valX, vecX=eig(X * 1/2)\n",
    "u = vecX[1] # |up>\n",
    "d = vecX[0] # |down>"
   ]
  },
  {
   "cell_type": "code",
   "execution_count": 70,
   "metadata": {},
   "outputs": [
    {
     "name": "stdout",
     "output_type": "stream",
     "text": [
      "Final state: 0.9999999999999996\n"
     ]
    }
   ],
   "source": [
    "# <right|H * X * H|right>\n",
    "state = np.transpose(r) @ H @ X @ H @ r\n",
    "print(\"Final state:\", state ** 2)"
   ]
  }
 ],
 "metadata": {
  "kernelspec": {
   "display_name": "Python 3",
   "language": "python",
   "name": "python3"
  },
  "language_info": {
   "codemirror_mode": {
    "name": "ipython",
    "version": 3
   },
   "file_extension": ".py",
   "mimetype": "text/x-python",
   "name": "python",
   "nbconvert_exporter": "python",
   "pygments_lexer": "ipython3",
   "version": "3.11.2"
  }
 },
 "nbformat": 4,
 "nbformat_minor": 2
}
